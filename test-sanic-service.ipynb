{
 "cells": [
  {
   "cell_type": "code",
   "execution_count": 5,
   "metadata": {},
   "outputs": [],
   "source": [
    "import requests\n",
    "import json\n",
    "\n",
    "url = 'https://cdn.fbsbx.com/v/t59.3654-21/291049229_409884981084799_58630802915458616_n.mp4/audioclip-1656839056000-4480.mp4?_nc_cat=103&ccb=1-7&_nc_sid=7272a8&_nc_ohc=XMCDqJwj0QcAX-DNWjm&_nc_ht=cdn.fbsbx.com&oh=03_AVLz9L_CNYkrTrz4KkaQlrBlzpO7ayh96xcdHjhpKi1ydQ&oe=62C3417E&dl=1'\n",
    "# url = 'https://cdn.fbsbx.com/v/t59.3654-21/278892221_2150649128433038_845322461096968459_n.mp4/audioclip-1650531227000-2048.mp4?_nc_cat=108&ccb=1-7&_nc_sid=7272a8&_nc_ohc=eflrUMVAjqYAX9npja8&_nc_ht=cdn.fbsbx.com&oh=03_AVKcAgoT74s4xlWtZIuax-UTAqCcXlCa9HDrDGsgEqK7Gw&oe=62C2C531&dl=1'\n",
    "url_obj = {'url': url, 'uid': '123456'}\n",
    "stt_server = 'http://0.0.0.0:8000/to-text'\n",
    "\n",
    "text = requests.post(stt_server, data=json.dumps(url_obj))"
   ]
  },
  {
   "cell_type": "code",
   "execution_count": 6,
   "metadata": {},
   "outputs": [
    {
     "name": "stdout",
     "output_type": "stream",
     "text": [
      "a lô một hai ba bốn xin chào\n"
     ]
    }
   ],
   "source": [
    "print(json.loads(text.text)['text'])"
   ]
  }
 ],
 "metadata": {
  "interpreter": {
   "hash": "bfb73dc47d1cd3ebadcc631f7c9307ba9faea420d90e7620ba11a224505033f1"
  },
  "kernelspec": {
   "display_name": "Python 3.8.10 ('stt-venv': venv)",
   "language": "python",
   "name": "python3"
  },
  "language_info": {
   "codemirror_mode": {
    "name": "ipython",
    "version": 3
   },
   "file_extension": ".py",
   "mimetype": "text/x-python",
   "name": "python",
   "nbconvert_exporter": "python",
   "pygments_lexer": "ipython3",
   "version": "3.8.10"
  },
  "orig_nbformat": 4
 },
 "nbformat": 4,
 "nbformat_minor": 2
}
